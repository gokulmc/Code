{
 "cells": [
  {
   "cell_type": "code",
   "execution_count": 44,
   "metadata": {
    "collapsed": false
   },
   "outputs": [
    {
     "name": "stdout",
     "output_type": "stream",
     "text": [
      "Top five numbers talked\n",
      "\n",
      "9629352829 was called 143 times for 73368 seconds\n",
      "9978072694 was called 110 times for 57083 seconds\n",
      "9842771448 was called 58 times for 11797 seconds\n",
      "7506152775 was called 39 times for 7163 seconds\n",
      "9842254460 was called 21 times for 2749 seconds\n"
     ]
    }
   ],
   "source": [
    "import csv\n",
    "import operator\n",
    "\n",
    "def timetotal(s,a,b):\n",
    "    t = 0\n",
    "    for i in range(len(a)):\n",
    "        if s==a[i]:\n",
    "            t=t+b[i]\n",
    "    return str(t)\n",
    "def tim(t):\n",
    "    t=(t.split(':'))\n",
    "    return str(int(t[0])*60+int(t[1]))\n",
    "\n",
    "c = open('phone.csv')\n",
    "f = open('time.txt','w')\n",
    "csvreader = csv.reader(c)\n",
    "for row in csvreader:\n",
    "    if row[2][-10:]!='' and row[3] !='':\n",
    "#         print row[2][-10:],row[3]\n",
    "        f.write(row[2][-10:]+','+tim(row[3])+'\\n')\n",
    "    if row[12][-10:]!='' and row[14]!='':\n",
    "#         print row[12][-10:],row[14]\n",
    "        f.write(row[12][-10:]+','+tim(row[14])+'\\n')\n",
    "        \n",
    "f.close()\n",
    "f=open('time.txt')\n",
    "a=[]\n",
    "b=[]\n",
    "\n",
    "for i in f:\n",
    "    io= i[:-1].split(',')\n",
    "    a.append(int(io[0]))\n",
    "    b.append(int(io[1]))\n",
    "#     print a\n",
    "d = {x:a.count(x) for x in a}\n",
    "sorted_d = sorted(d.items(), key=operator.itemgetter(1))\n",
    "# print sorted_d\n",
    "\n",
    "print \"Top five numbers talked\\n\"\n",
    "for i in range(5):\n",
    "    sfd = sorted_d[-1-i]\n",
    "    print str(sfd[0])+' was called '+str(sfd[1])+' times for '+timetotal(sfd[0],a,b)+' seconds'\n",
    "    \n"
   ]
  },
  {
   "cell_type": "code",
   "execution_count": 14,
   "metadata": {
    "collapsed": false
   },
   "outputs": [
    {
     "name": "stdout",
     "output_type": "stream",
     "text": [
      "79\n"
     ]
    }
   ],
   "source": [
    "\n",
    "def tim(t):\n",
    "    t=(t.split(':'))\n",
    "    return int(t[0])*60+int(t[1])\n",
    "tim('1:19')"
   ]
  },
  {
   "cell_type": "code",
   "execution_count": null,
   "metadata": {
    "collapsed": true
   },
   "outputs": [],
   "source": []
  }
 ],
 "metadata": {
  "kernelspec": {
   "display_name": "Python 2",
   "language": "python",
   "name": "python2"
  },
  "language_info": {
   "codemirror_mode": {
    "name": "ipython",
    "version": 2
   },
   "file_extension": ".py",
   "mimetype": "text/x-python",
   "name": "python",
   "nbconvert_exporter": "python",
   "pygments_lexer": "ipython2",
   "version": "2.7.10"
  }
 },
 "nbformat": 4,
 "nbformat_minor": 0
}
